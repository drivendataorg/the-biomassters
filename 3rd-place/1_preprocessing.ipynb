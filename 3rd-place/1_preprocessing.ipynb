{
 "cells": [
  {
   "cell_type": "code",
   "execution_count": 1,
   "metadata": {},
   "outputs": [],
   "source": [
    "import os\n",
    "from concurrent.futures import ProcessPoolExecutor\n",
    "from itertools import repeat\n",
    "from tqdm import tqdm\n",
    "import warnings\n",
    "import multiprocessing\n",
    "from glob import glob\n",
    "from utils import reclassify_month, dilate_image, preprocess_s1, preprocess_s2, stratify_data, calcuate_mean_std\n",
    "\n",
    "warnings.simplefilter(\"ignore\")"
   ]
  },
  {
   "cell_type": "markdown",
   "metadata": {},
   "source": [
    "## Pre-processing \n",
    "\n",
    "* *Sentinel-1* and *Sentinel-2* imagery were preprocessed into 6 cloud-free median composites to reduce data dimensionality while preserving the maximum amount of information. \n",
    "* I tested multiple median image compositing strategies and incorporation of vegetation indices for Sentinel-2 and VV/VH ratio for Sentinel-1 imagery.\n",
    "\n",
    "### Image compositing strategies:\n",
    "2S (two seasons): \n",
    "* Sentinel-2 (20 channels): cloud-masked median for (May, Jun, Jul, Aug, Sep, Oct) and (Nov, Dec, Jan, Feb, Mar, Apr)\n",
    "* Sentinel-1 (8 channels): median for (May, Jun, Jul, Aug, Sep, Oct) and (Nov, Dec, Jan, Feb, Mar, Apr)\n",
    "\n",
    "2SI (two seasons + indices):\n",
    "* Sentinel-2 (38 channels): cloud-masked median for (May, Jun, Jul, Aug, Sep, Oct) and (Nov, Dec, Jan, Feb, Mar, Apr) + 9 vegetation indices per season\n",
    "* Sentinel-1 (12 channels): median for (May, Jun, Jul, Aug, Sep, Oct) and (Nov, Dec, Jan, Feb, Mar, Apr) + 2 VV/VH ratios per season\n",
    "\n",
    "3S (three seasons):\n",
    "* Sentinel-2 (30 channels): cloud-masked median for (Sep, Oct, Nov, Dec), (Jan, Feb, Mar, Apr), (May, Jun, Jul, Aug)\n",
    "* Sentinel-1 (12 channels): median for (Sep, Oct, Nov, Dec), (Jan, Feb, Mar, Apr), (May, Jun, Jul, Aug)\n",
    "\n",
    "4S (four seasons):\n",
    "* Sentinel-2 (40 channels): cloud-masked median for (Sep, Oct, Nov), (Dec, Jan, Feb), (Mar, Apr, May), and (Jun, Jul, Aug)\n",
    "* Sentinel-1 (16 channels): median for (Sep, Oct, Nov), (Dec, Jan, Feb), (Mar, Apr, May), and (Jun, Jul, Aug)\n",
    "\n",
    "4SI (four seasons + indices):\n",
    "* Sentinel-2 (48 channels): cloud-masked median for (Sep, Oct, Nov), (Dec, Jan, Feb), (Mar, Apr, May), and (Jun, Jul, Aug) + 2 vegetation indices per season \n",
    "* Sentinel-1 (24 channels): median for (Sep, Oct, Nov), (Dec, Jan, Feb), (Mar, Apr, May), and (Jun, Jul, Aug) + 1 VV/VH ratio per season\n",
    "\n",
    "6S (six seasons):\n",
    "* Sentinel-2 (60 channels): cloud-masked median for (Sep, Oct), (Nov, Dec), (Jan, Feb), (Mar, Apr), (May, Jun), (Jul, Aug)\n",
    "* Sentinel-1 (24 channels): median for (Sep, Oct), (Nov, Dec), (Jan, Feb), (Mar, Apr), (May, Jun), (Jul, Aug)"
   ]
  },
  {
   "cell_type": "code",
   "execution_count": 2,
   "metadata": {},
   "outputs": [],
   "source": [
    "root_dir = os.getcwd() # Change to the root folder where you downloaded raw data\n"
   ]
  },
  {
   "cell_type": "code",
   "execution_count": 3,
   "metadata": {},
   "outputs": [],
   "source": [
    "\n",
    "train_img_dir = f\"{root_dir}/train_features\"\n",
    "test_img_dir = f\"{root_dir}/test_features\"\n",
    "\n",
    "CORES = multiprocessing.cpu_count() // 2\n",
    "\n",
    "S1_S2_TRAIN_TIFs = glob(f\"{train_img_dir}/*.tif\")\n",
    "uIDs_train = sorted(set([os.path.basename(name).split('_')[0] for name in S1_S2_TRAIN_TIFs]))\n",
    "\n",
    "S1_S2_TEST_TIFs = glob(f\"{test_img_dir}/*.tif\")\n",
    "uIDs_test = sorted(set([os.path.basename(name).split('_')[0] for name in S1_S2_TEST_TIFs]))"
   ]
  },
  {
   "cell_type": "markdown",
   "metadata": {},
   "source": [
    "Here we simply iterate through different compositing strategies to generate training data using <code>multiprocessing</code>"
   ]
  },
  {
   "cell_type": "code",
   "execution_count": 4,
   "metadata": {
    "pycharm": {
     "name": "#%%\n"
    }
   },
   "outputs": [
    {
     "name": "stdout",
     "output_type": "stream",
     "text": [
      "Pre-processing /home/ubuntu/the-biomassters/train_features_s1_2S data\n"
     ]
    },
    {
     "name": "stderr",
     "output_type": "stream",
     "text": [
      "0it [00:00, ?it/s]\n"
     ]
    },
    {
     "name": "stdout",
     "output_type": "stream",
     "text": [
      "Pre-processing /home/ubuntu/the-biomassters/train_features_s2_2S data\n"
     ]
    },
    {
     "name": "stderr",
     "output_type": "stream",
     "text": [
      "0it [00:00, ?it/s]\n"
     ]
    },
    {
     "name": "stdout",
     "output_type": "stream",
     "text": [
      "Pre-processing /home/ubuntu/the-biomassters/test_features_s1_2S data\n"
     ]
    },
    {
     "name": "stderr",
     "output_type": "stream",
     "text": [
      "0it [00:00, ?it/s]\n"
     ]
    },
    {
     "name": "stdout",
     "output_type": "stream",
     "text": [
      "Pre-processing /home/ubuntu/the-biomassters/test_features_s2_2S data\n"
     ]
    },
    {
     "name": "stderr",
     "output_type": "stream",
     "text": [
      "0it [00:00, ?it/s]\n"
     ]
    },
    {
     "name": "stdout",
     "output_type": "stream",
     "text": [
      "Pre-processing /home/ubuntu/the-biomassters/train_features_s1_2SI data\n"
     ]
    },
    {
     "name": "stderr",
     "output_type": "stream",
     "text": [
      "0it [00:00, ?it/s]\n"
     ]
    },
    {
     "name": "stdout",
     "output_type": "stream",
     "text": [
      "Pre-processing /home/ubuntu/the-biomassters/train_features_s2_2SI data\n"
     ]
    },
    {
     "name": "stderr",
     "output_type": "stream",
     "text": [
      "0it [00:00, ?it/s]\n"
     ]
    },
    {
     "name": "stdout",
     "output_type": "stream",
     "text": [
      "Pre-processing /home/ubuntu/the-biomassters/test_features_s1_2SI data\n"
     ]
    },
    {
     "name": "stderr",
     "output_type": "stream",
     "text": [
      "0it [00:00, ?it/s]\n"
     ]
    },
    {
     "name": "stdout",
     "output_type": "stream",
     "text": [
      "Pre-processing /home/ubuntu/the-biomassters/test_features_s2_2SI data\n"
     ]
    },
    {
     "name": "stderr",
     "output_type": "stream",
     "text": [
      "0it [00:00, ?it/s]\n"
     ]
    },
    {
     "name": "stdout",
     "output_type": "stream",
     "text": [
      "Pre-processing /home/ubuntu/the-biomassters/train_features_s1_3S data\n"
     ]
    },
    {
     "name": "stderr",
     "output_type": "stream",
     "text": [
      "0it [00:00, ?it/s]\n"
     ]
    },
    {
     "name": "stdout",
     "output_type": "stream",
     "text": [
      "Pre-processing /home/ubuntu/the-biomassters/train_features_s2_3S data\n"
     ]
    },
    {
     "name": "stderr",
     "output_type": "stream",
     "text": [
      "0it [00:00, ?it/s]\n"
     ]
    },
    {
     "name": "stdout",
     "output_type": "stream",
     "text": [
      "Pre-processing /home/ubuntu/the-biomassters/test_features_s1_3S data\n"
     ]
    },
    {
     "name": "stderr",
     "output_type": "stream",
     "text": [
      "0it [00:00, ?it/s]\n"
     ]
    },
    {
     "name": "stdout",
     "output_type": "stream",
     "text": [
      "Pre-processing /home/ubuntu/the-biomassters/test_features_s2_3S data\n"
     ]
    },
    {
     "name": "stderr",
     "output_type": "stream",
     "text": [
      "0it [00:00, ?it/s]\n"
     ]
    },
    {
     "name": "stdout",
     "output_type": "stream",
     "text": [
      "Pre-processing /home/ubuntu/the-biomassters/train_features_s1_4S data\n"
     ]
    },
    {
     "name": "stderr",
     "output_type": "stream",
     "text": [
      "0it [00:00, ?it/s]\n"
     ]
    },
    {
     "name": "stdout",
     "output_type": "stream",
     "text": [
      "Pre-processing /home/ubuntu/the-biomassters/train_features_s2_4S data\n"
     ]
    },
    {
     "name": "stderr",
     "output_type": "stream",
     "text": [
      "0it [00:00, ?it/s]\n"
     ]
    },
    {
     "name": "stdout",
     "output_type": "stream",
     "text": [
      "Pre-processing /home/ubuntu/the-biomassters/test_features_s1_4S data\n"
     ]
    },
    {
     "name": "stderr",
     "output_type": "stream",
     "text": [
      "0it [00:00, ?it/s]\n"
     ]
    },
    {
     "name": "stdout",
     "output_type": "stream",
     "text": [
      "Pre-processing /home/ubuntu/the-biomassters/test_features_s2_4S data\n"
     ]
    },
    {
     "name": "stderr",
     "output_type": "stream",
     "text": [
      "0it [00:00, ?it/s]\n"
     ]
    },
    {
     "name": "stdout",
     "output_type": "stream",
     "text": [
      "Pre-processing /home/ubuntu/the-biomassters/train_features_s1_4SI data\n"
     ]
    },
    {
     "name": "stderr",
     "output_type": "stream",
     "text": [
      "0it [00:00, ?it/s]\n"
     ]
    },
    {
     "name": "stdout",
     "output_type": "stream",
     "text": [
      "Pre-processing /home/ubuntu/the-biomassters/train_features_s2_4SI data\n"
     ]
    },
    {
     "name": "stderr",
     "output_type": "stream",
     "text": [
      "0it [00:00, ?it/s]\n"
     ]
    },
    {
     "name": "stdout",
     "output_type": "stream",
     "text": [
      "Pre-processing /home/ubuntu/the-biomassters/test_features_s1_4SI data\n"
     ]
    },
    {
     "name": "stderr",
     "output_type": "stream",
     "text": [
      "0it [00:00, ?it/s]\n"
     ]
    },
    {
     "name": "stdout",
     "output_type": "stream",
     "text": [
      "Pre-processing /home/ubuntu/the-biomassters/test_features_s2_4SI data\n"
     ]
    },
    {
     "name": "stderr",
     "output_type": "stream",
     "text": [
      "0it [00:00, ?it/s]\n"
     ]
    },
    {
     "name": "stdout",
     "output_type": "stream",
     "text": [
      "Pre-processing /home/ubuntu/the-biomassters/train_features_s1_6S data\n"
     ]
    },
    {
     "name": "stderr",
     "output_type": "stream",
     "text": [
      "0it [00:00, ?it/s]\n"
     ]
    },
    {
     "name": "stdout",
     "output_type": "stream",
     "text": [
      "Pre-processing /home/ubuntu/the-biomassters/train_features_s2_6S data\n"
     ]
    },
    {
     "name": "stderr",
     "output_type": "stream",
     "text": [
      "0it [00:00, ?it/s]\n"
     ]
    },
    {
     "name": "stdout",
     "output_type": "stream",
     "text": [
      "Pre-processing /home/ubuntu/the-biomassters/test_features_s1_6S data\n"
     ]
    },
    {
     "name": "stderr",
     "output_type": "stream",
     "text": [
      "0it [00:00, ?it/s]\n"
     ]
    },
    {
     "name": "stdout",
     "output_type": "stream",
     "text": [
      "Pre-processing /home/ubuntu/the-biomassters/test_features_s2_6S data\n"
     ]
    },
    {
     "name": "stderr",
     "output_type": "stream",
     "text": [
      "0it [00:00, ?it/s]\n"
     ]
    }
   ],
   "source": [
    "if __name__ == '__main__':\n",
    "\n",
    "\n",
    "    for SUFFIX in  ['2S', '2SI', '3S', '4S', '4SI', '6S']:\n",
    "\n",
    "        train_img_dir_s1 = f\"{root_dir}/train_features_s1_{SUFFIX}\"\n",
    "        if not os.path.exists(train_img_dir_s1):\n",
    "            os.mkdir(train_img_dir_s1)\n",
    "        with ProcessPoolExecutor(CORES) as pool:\n",
    "            print(f'Pre-processing {train_img_dir_s1} data')\n",
    "            result = list(tqdm(pool.map(preprocess_s1, uIDs_train, repeat(train_img_dir), repeat(train_img_dir_s1), \n",
    "                                        repeat(SUFFIX)), total=len(uIDs_train)))\n",
    "        try:\n",
    "            result\n",
    "        except Exception:\n",
    "            raise Exception(f\"preprocess_s1() on {train_img_dir_s1} failed\")\n",
    "       \n",
    "\n",
    "        train_img_dir_s2 = f\"{root_dir}/train_features_s2_{SUFFIX}\"\n",
    "        if not os.path.exists(train_img_dir_s2):\n",
    "            os.mkdir(train_img_dir_s2)\n",
    "        with ProcessPoolExecutor(CORES) as pool:\n",
    "            print(f'Pre-processing {train_img_dir_s2} data')\n",
    "            result = list(tqdm(pool.map(preprocess_s2, uIDs_train, repeat(train_img_dir), repeat(train_img_dir_s2), \n",
    "                                        repeat(SUFFIX)), total=len(uIDs_train)))\n",
    "        try:\n",
    "            result\n",
    "        except Exception:\n",
    "            raise Exception(f\"preprocess_s2() on {train_img_dir_s2} failed\")\n",
    "        \n",
    "        \n",
    "        test_img_dir_s1 = f\"{root_dir}/test_features_s1_{SUFFIX}\"\n",
    "        if not os.path.exists(test_img_dir_s1):\n",
    "            os.mkdir(test_img_dir_s1)\n",
    "        with ProcessPoolExecutor(CORES) as pool:\n",
    "            print(f'Pre-processing {test_img_dir_s1} data')\n",
    "            result = list(tqdm(pool.map(preprocess_s1, uIDs_test, repeat(test_img_dir), repeat(test_img_dir_s1), \n",
    "                                        repeat(SUFFIX)), total=len(uIDs_test)))\n",
    "        try:\n",
    "            result\n",
    "        except Exception:\n",
    "            raise Exception(f\"preprocess_s1() on {test_img_dir_s1} failed\")\n",
    "        \n",
    "        \n",
    "        test_img_dir_s2 = f\"{root_dir}/test_features_s2_{SUFFIX}\"\n",
    "        if not os.path.exists(test_img_dir_s2):\n",
    "            os.mkdir(test_img_dir_s2)\n",
    "        with ProcessPoolExecutor(CORES) as pool:\n",
    "            print(f'Pre-processing {test_img_dir_s2} data')\n",
    "            result = list(tqdm(pool.map(preprocess_s2, uIDs_test, repeat(test_img_dir), repeat(test_img_dir_s2), \n",
    "                                        repeat(SUFFIX)), total=len(uIDs_test)))\n",
    "        try:\n",
    "            result\n",
    "        except Exception:\n",
    "            raise Exception(f\"preprocess_s2() on {test_img_dir_s2} failed\")\n"
   ]
  },
  {
   "cell_type": "code",
   "execution_count": null,
   "metadata": {},
   "outputs": [],
   "source": []
  }
 ],
 "metadata": {
  "kernelspec": {
   "display_name": "Python [conda env:biomassters] *",
   "language": "python",
   "name": "conda-env-biomassters-py"
  },
  "language_info": {
   "codemirror_mode": {
    "name": "ipython",
    "version": 3
   },
   "file_extension": ".py",
   "mimetype": "text/x-python",
   "name": "python",
   "nbconvert_exporter": "python",
   "pygments_lexer": "ipython3",
   "version": "3.10.9"
  }
 },
 "nbformat": 4,
 "nbformat_minor": 4
}
